{
 "cells": [
  {
   "cell_type": "markdown",
   "metadata": {},
   "source": [
    "# spacy"
   ]
  },
  {
   "cell_type": "markdown",
   "metadata": {},
   "source": [
    "# Features"
   ]
  },
  {
   "cell_type": "raw",
   "metadata": {},
   "source": [
    "-Non-destructive tokenization\n",
    "Non-destructive tokenization\n",
    "Named entity recognition\n",
    "Support for 49+ languages\n",
    "16 statistical models for 9 languages\n",
    "Pre-trained word vectors\n",
    "State-of-the-art speed\n",
    "Easy deep learning integration\n",
    "Part-of-speech tagging\n",
    "Labelled dependency parsing\n",
    "Syntax-driven sentence segmentation\n",
    "Built in visualizers for syntax and NER\n",
    "Convenient string-to-hash mapping\n",
    "Export to numpy data arrays\n",
    "Efficient binary serialization\n",
    "Easy model packaging and deployment\n",
    "Robust, rigorously evaluated accuracy"
   ]
  },
  {
   "cell_type": "code",
   "execution_count": 1,
   "metadata": {},
   "outputs": [
    {
     "name": "stdout",
     "output_type": "stream",
     "text": [
      "Requirement already satisfied: spacy in c:\\users\\jaya\\anaconda3\\lib\\site-packages (2.1.4)\n",
      "Requirement already satisfied: murmurhash<1.1.0,>=0.28.0 in c:\\users\\jaya\\anaconda3\\lib\\site-packages (from spacy) (1.0.2)\n",
      "Requirement already satisfied: plac<1.0.0,>=0.9.6 in c:\\users\\jaya\\anaconda3\\lib\\site-packages (from spacy) (0.9.6)\n",
      "Requirement already satisfied: thinc<7.1.0,>=7.0.2 in c:\\users\\jaya\\anaconda3\\lib\\site-packages (from spacy) (7.0.4)\n",
      "Requirement already satisfied: preshed<2.1.0,>=2.0.1 in c:\\users\\jaya\\anaconda3\\lib\\site-packages (from spacy) (2.0.1)\n",
      "Requirement already satisfied: wasabi<1.1.0,>=0.2.0 in c:\\users\\jaya\\anaconda3\\lib\\site-packages (from spacy) (0.2.2)\n",
      "Requirement already satisfied: jsonschema<3.1.0,>=2.6.0 in c:\\users\\jaya\\anaconda3\\lib\\site-packages (from spacy) (3.0.1)\n",
      "Requirement already satisfied: srsly<1.1.0,>=0.0.5 in c:\\users\\jaya\\anaconda3\\lib\\site-packages (from spacy) (0.0.7)\n",
      "Requirement already satisfied: blis<0.3.0,>=0.2.2 in c:\\users\\jaya\\anaconda3\\lib\\site-packages (from spacy) (0.2.4)\n",
      "Requirement already satisfied: requests<3.0.0,>=2.13.0 in c:\\users\\jaya\\anaconda3\\lib\\site-packages (from spacy) (2.21.0)\n",
      "Requirement already satisfied: numpy>=1.15.0 in c:\\users\\jaya\\anaconda3\\lib\\site-packages (from spacy) (1.16.2)\n",
      "Requirement already satisfied: cymem<2.1.0,>=2.0.2 in c:\\users\\jaya\\anaconda3\\lib\\site-packages (from spacy) (2.0.2)\n",
      "Requirement already satisfied: tqdm<5.0.0,>=4.10.0 in c:\\users\\jaya\\anaconda3\\lib\\site-packages (from thinc<7.1.0,>=7.0.2->spacy) (4.31.1)\n",
      "Requirement already satisfied: attrs>=17.4.0 in c:\\users\\jaya\\anaconda3\\lib\\site-packages (from jsonschema<3.1.0,>=2.6.0->spacy) (19.1.0)\n",
      "Requirement already satisfied: pyrsistent>=0.14.0 in c:\\users\\jaya\\anaconda3\\lib\\site-packages (from jsonschema<3.1.0,>=2.6.0->spacy) (0.14.11)\n",
      "Requirement already satisfied: setuptools in c:\\users\\jaya\\anaconda3\\lib\\site-packages (from jsonschema<3.1.0,>=2.6.0->spacy) (40.8.0)\n",
      "Requirement already satisfied: six>=1.11.0 in c:\\users\\jaya\\anaconda3\\lib\\site-packages (from jsonschema<3.1.0,>=2.6.0->spacy) (1.12.0)\n",
      "Requirement already satisfied: urllib3<1.25,>=1.21.1 in c:\\users\\jaya\\anaconda3\\lib\\site-packages (from requests<3.0.0,>=2.13.0->spacy) (1.24.1)\n",
      "Requirement already satisfied: certifi>=2017.4.17 in c:\\users\\jaya\\anaconda3\\lib\\site-packages (from requests<3.0.0,>=2.13.0->spacy) (2019.3.9)\n",
      "Requirement already satisfied: idna<2.9,>=2.5 in c:\\users\\jaya\\anaconda3\\lib\\site-packages (from requests<3.0.0,>=2.13.0->spacy) (2.8)\n",
      "Requirement already satisfied: chardet<3.1.0,>=3.0.2 in c:\\users\\jaya\\anaconda3\\lib\\site-packages (from requests<3.0.0,>=2.13.0->spacy) (3.0.4)\n",
      "Note: you may need to restart the kernel to use updated packages.\n"
     ]
    }
   ],
   "source": [
    "pip install spacy"
   ]
  },
  {
   "cell_type": "code",
   "execution_count": 2,
   "metadata": {},
   "outputs": [
    {
     "name": "stdout",
     "output_type": "stream",
     "text": [
      "Processing c:\\users\\jaya\\en_core_web_sm-2.1.0.tar.gz\n",
      "Requirement already satisfied: spacy>=2.1.0 in c:\\users\\jaya\\anaconda3\\lib\\site-packages (from en-core-web-sm==2.1.0) (2.1.4)\n",
      "Requirement already satisfied: cymem<2.1.0,>=2.0.2 in c:\\users\\jaya\\anaconda3\\lib\\site-packages (from spacy>=2.1.0->en-core-web-sm==2.1.0) (2.0.2)\n",
      "Requirement already satisfied: jsonschema<3.1.0,>=2.6.0 in c:\\users\\jaya\\anaconda3\\lib\\site-packages (from spacy>=2.1.0->en-core-web-sm==2.1.0) (3.0.1)\n",
      "Requirement already satisfied: blis<0.3.0,>=0.2.2 in c:\\users\\jaya\\anaconda3\\lib\\site-packages (from spacy>=2.1.0->en-core-web-sm==2.1.0) (0.2.4)\n",
      "Requirement already satisfied: wasabi<1.1.0,>=0.2.0 in c:\\users\\jaya\\anaconda3\\lib\\site-packages (from spacy>=2.1.0->en-core-web-sm==2.1.0) (0.2.2)\n",
      "Requirement already satisfied: numpy>=1.15.0 in c:\\users\\jaya\\anaconda3\\lib\\site-packages (from spacy>=2.1.0->en-core-web-sm==2.1.0) (1.16.2)\n",
      "Requirement already satisfied: preshed<2.1.0,>=2.0.1 in c:\\users\\jaya\\anaconda3\\lib\\site-packages (from spacy>=2.1.0->en-core-web-sm==2.1.0) (2.0.1)\n",
      "Requirement already satisfied: plac<1.0.0,>=0.9.6 in c:\\users\\jaya\\anaconda3\\lib\\site-packages (from spacy>=2.1.0->en-core-web-sm==2.1.0) (0.9.6)\n",
      "Requirement already satisfied: requests<3.0.0,>=2.13.0 in c:\\users\\jaya\\anaconda3\\lib\\site-packages (from spacy>=2.1.0->en-core-web-sm==2.1.0) (2.21.0)\n",
      "Requirement already satisfied: srsly<1.1.0,>=0.0.5 in c:\\users\\jaya\\anaconda3\\lib\\site-packages (from spacy>=2.1.0->en-core-web-sm==2.1.0) (0.0.7)\n",
      "Requirement already satisfied: murmurhash<1.1.0,>=0.28.0 in c:\\users\\jaya\\anaconda3\\lib\\site-packages (from spacy>=2.1.0->en-core-web-sm==2.1.0) (1.0.2)\n",
      "Requirement already satisfied: thinc<7.1.0,>=7.0.2 in c:\\users\\jaya\\anaconda3\\lib\\site-packages (from spacy>=2.1.0->en-core-web-sm==2.1.0) (7.0.4)\n",
      "Requirement already satisfied: attrs>=17.4.0 in c:\\users\\jaya\\anaconda3\\lib\\site-packages (from jsonschema<3.1.0,>=2.6.0->spacy>=2.1.0->en-core-web-sm==2.1.0) (19.1.0)\n",
      "Requirement already satisfied: pyrsistent>=0.14.0 in c:\\users\\jaya\\anaconda3\\lib\\site-packages (from jsonschema<3.1.0,>=2.6.0->spacy>=2.1.0->en-core-web-sm==2.1.0) (0.14.11)\n",
      "Requirement already satisfied: setuptools in c:\\users\\jaya\\anaconda3\\lib\\site-packages (from jsonschema<3.1.0,>=2.6.0->spacy>=2.1.0->en-core-web-sm==2.1.0) (40.8.0)\n",
      "Requirement already satisfied: six>=1.11.0 in c:\\users\\jaya\\anaconda3\\lib\\site-packages (from jsonschema<3.1.0,>=2.6.0->spacy>=2.1.0->en-core-web-sm==2.1.0) (1.12.0)\n",
      "Requirement already satisfied: certifi>=2017.4.17 in c:\\users\\jaya\\anaconda3\\lib\\site-packages (from requests<3.0.0,>=2.13.0->spacy>=2.1.0->en-core-web-sm==2.1.0) (2019.3.9)\n",
      "Requirement already satisfied: chardet<3.1.0,>=3.0.2 in c:\\users\\jaya\\anaconda3\\lib\\site-packages (from requests<3.0.0,>=2.13.0->spacy>=2.1.0->en-core-web-sm==2.1.0) (3.0.4)\n",
      "Requirement already satisfied: urllib3<1.25,>=1.21.1 in c:\\users\\jaya\\anaconda3\\lib\\site-packages (from requests<3.0.0,>=2.13.0->spacy>=2.1.0->en-core-web-sm==2.1.0) (1.24.1)\n",
      "Requirement already satisfied: idna<2.9,>=2.5 in c:\\users\\jaya\\anaconda3\\lib\\site-packages (from requests<3.0.0,>=2.13.0->spacy>=2.1.0->en-core-web-sm==2.1.0) (2.8)\n",
      "Requirement already satisfied: tqdm<5.0.0,>=4.10.0 in c:\\users\\jaya\\anaconda3\\lib\\site-packages (from thinc<7.1.0,>=7.0.2->spacy>=2.1.0->en-core-web-sm==2.1.0) (4.31.1)\n",
      "Building wheels for collected packages: en-core-web-sm\n",
      "  Building wheel for en-core-web-sm (setup.py): started\n",
      "  Building wheel for en-core-web-sm (setup.py): finished with status 'done'\n",
      "  Stored in directory: C:\\Users\\jaya\\AppData\\Local\\pip\\Cache\\wheels\\d3\\2d\\29\\cd8ec38ea3a37644d5a6d8babc8ab6641a848502fa4730d921\n",
      "Successfully built en-core-web-sm\n",
      "Installing collected packages: en-core-web-sm\n",
      "  Found existing installation: en-core-web-sm 2.1.0\n",
      "    Uninstalling en-core-web-sm-2.1.0:\n",
      "      Successfully uninstalled en-core-web-sm-2.1.0\n",
      "Successfully installed en-core-web-sm-2.1.0\n",
      "Note: you may need to restart the kernel to use updated packages.\n"
     ]
    }
   ],
   "source": [
    "pip install C:/Users/jaya/en_core_web_sm-2.1.0.tar.gz"
   ]
  },
  {
   "cell_type": "code",
   "execution_count": 3,
   "metadata": {},
   "outputs": [],
   "source": [
    "import spacy"
   ]
  },
  {
   "cell_type": "code",
   "execution_count": 4,
   "metadata": {},
   "outputs": [],
   "source": [
    "# Load English tokenizer, tagger, parser, NER and word vectors\n",
    "nlp = spacy.load(\"en_core_web_sm\")"
   ]
  },
  {
   "cell_type": "code",
   "execution_count": 5,
   "metadata": {},
   "outputs": [],
   "source": [
    "# Process whole documents\n",
    "text = (\"When Sebastian Thrun started working on self-driving cars at \"\n",
    "        \"Google in 2007, few people outside of the company took him \"\n",
    "        \"seriously. “I can tell you very senior CEOs of major American \"\n",
    "        \"car companies would shake my hand and turn away because I wasn’t \"\n",
    "        \"worth talking to,” said Thrun, in an interview with Recode earlier \"\n",
    "        \"this week.\")\n",
    "doc = nlp(text)"
   ]
  },
  {
   "cell_type": "code",
   "execution_count": 6,
   "metadata": {},
   "outputs": [
    {
     "name": "stdout",
     "output_type": "stream",
     "text": [
      "Noun phrases: ['Sebastian Thrun', 'self-driving cars', 'Google', 'few people', 'the company', 'him', 'I', 'you', 'very senior CEOs', 'major American car companies', 'my hand', 'I', 'Thrun', 'an interview', 'Recode']\n",
      "Verbs: ['start', 'work', 'drive', 'take', 'can', 'tell', 'would', 'shake', 'turn', 'be', 'talk', 'say']\n"
     ]
    }
   ],
   "source": [
    "# Analyze syntax\n",
    "print(\"Noun phrases:\", [chunk.text for chunk in doc.noun_chunks])\n",
    "print(\"Verbs:\", [token.lemma_ for token in doc if token.pos_ == \"VERB\"])"
   ]
  },
  {
   "cell_type": "code",
   "execution_count": 7,
   "metadata": {},
   "outputs": [
    {
     "name": "stdout",
     "output_type": "stream",
     "text": [
      "Sebastian Thrun PERSON\n",
      "Google ORG\n",
      "2007 DATE\n",
      "American NORP\n",
      "Thrun PERSON\n",
      "Recode ORG\n",
      "earlier this week DATE\n"
     ]
    }
   ],
   "source": [
    "# Find named entities, phrases and concepts\n",
    "for entity in doc.ents:\n",
    "    print(entity.text, entity.label_)"
   ]
  },
  {
   "cell_type": "code",
   "execution_count": null,
   "metadata": {},
   "outputs": [],
   "source": []
  }
 ],
 "metadata": {
  "kernelspec": {
   "display_name": "Python 3",
   "language": "python",
   "name": "python3"
  },
  "language_info": {
   "codemirror_mode": {
    "name": "ipython",
    "version": 3
   },
   "file_extension": ".py",
   "mimetype": "text/x-python",
   "name": "python",
   "nbconvert_exporter": "python",
   "pygments_lexer": "ipython3",
   "version": "3.7.3"
  }
 },
 "nbformat": 4,
 "nbformat_minor": 2
}
